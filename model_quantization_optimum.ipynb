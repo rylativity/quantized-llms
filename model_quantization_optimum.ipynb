{
 "cells": [
  {
   "cell_type": "code",
   "execution_count": null,
   "metadata": {},
   "outputs": [],
   "source": [
    "# STATIC QUANTIZATION"
   ]
  },
  {
   "cell_type": "code",
   "execution_count": null,
   "metadata": {},
   "outputs": [],
   "source": [
    "from functools import partial\n",
    "from transformers import AutoModelForSequenceClassification, AutoTokenizer\n",
    "from neural_compressor.config import PostTrainingQuantConfig\n",
    "from optimum.intel import INCQuantizer\n",
    "\n",
    "model_name = \"distilbert-base-uncased-finetuned-sst-2-english\"\n",
    "model = AutoModelForSequenceClassification.from_pretrained(model_name)\n",
    "tokenizer = AutoTokenizer.from_pretrained(model_name)\n",
    "# The directory where the quantized model will be saved\n",
    "save_dir = \"static_quantization\"\n",
    "\n",
    "def preprocess_function(examples, tokenizer):\n",
    "    return tokenizer(examples[\"sentence\"], padding=\"max_length\", max_length=128, truncation=True)\n",
    "\n",
    "# Load the quantization configuration detailing the quantization we wish to apply\n",
    "quantization_config = PostTrainingQuantConfig(approach=\"static\")\n",
    "quantizer = INCQuantizer.from_pretrained(model)\n",
    "# Generate the calibration dataset needed for the calibration step\n",
    "calibration_dataset = quantizer.get_calibration_dataset(\n",
    "    \"glue\",\n",
    "    dataset_config_name=\"sst2\",\n",
    "    preprocess_function=partial(preprocess_function, tokenizer=tokenizer),\n",
    "    num_samples=100,\n",
    "    dataset_split=\"train\",\n",
    ")\n",
    "quantizer = INCQuantizer.from_pretrained(model)\n",
    "# Apply static quantization and save the resulting model\n",
    "quantizer.quantize(\n",
    "    quantization_config=quantization_config,\n",
    "    calibration_dataset=calibration_dataset,\n",
    "    save_directory=save_dir,\n",
    ")"
   ]
  },
  {
   "cell_type": "code",
   "execution_count": null,
   "metadata": {},
   "outputs": [],
   "source": [
    "# DYNAMIC QUANTIZATION"
   ]
  },
  {
   "cell_type": "code",
   "execution_count": null,
   "metadata": {},
   "outputs": [],
   "source": [
    "import evaluate\n",
    "from optimum.intel import INCQuantizer\n",
    "from datasets import load_dataset\n",
    "from transformers import AutoModelForQuestionAnswering, AutoTokenizer, pipeline\n",
    "from neural_compressor.config import AccuracyCriterion, TuningCriterion, PostTrainingQuantConfig\n",
    "\n",
    "model_name = \"distilbert-base-cased-distilled-squad\"\n",
    "model = AutoModelForQuestionAnswering.from_pretrained(model_name)\n",
    "tokenizer = AutoTokenizer.from_pretrained(model_name)\n",
    "eval_dataset = load_dataset(\"squad\", split=\"validation\").select(range(64))\n",
    "task_evaluator = evaluate.evaluator(\"question-answering\")\n",
    "qa_pipeline = pipeline(\"question-answering\", model=model, tokenizer=tokenizer)\n",
    "\n",
    "def eval_fn(model):\n",
    "    qa_pipeline.model = model\n",
    "    metrics = task_evaluator.compute(model_or_pipeline=qa_pipeline, data=eval_dataset, metric=\"squad\")\n",
    "    return metrics[\"f1\"]\n",
    "\n",
    "# Set the accepted accuracy loss to 5%\n",
    "accuracy_criterion = AccuracyCriterion(tolerable_loss=0.05)\n",
    "# Set the maximum number of trials to 10\n",
    "tuning_criterion = TuningCriterion(max_trials=10)\n",
    "quantization_config = PostTrainingQuantConfig(\n",
    "    approach=\"dynamic\", accuracy_criterion=accuracy_criterion, tuning_criterion=tuning_criterion\n",
    ")\n",
    "quantizer = INCQuantizer.from_pretrained(model, eval_fn=eval_fn)\n",
    "quantizer.quantize(quantization_config=quantization_config, save_directory=\"dynamic_quantization\")"
   ]
  },
  {
   "cell_type": "code",
   "execution_count": null,
   "metadata": {},
   "outputs": [],
   "source": []
  }
 ],
 "metadata": {
  "kernelspec": {
   "display_name": "venv",
   "language": "python",
   "name": "python3"
  },
  "language_info": {
   "codemirror_mode": {
    "name": "ipython",
    "version": 3
   },
   "file_extension": ".py",
   "mimetype": "text/x-python",
   "name": "python",
   "nbconvert_exporter": "python",
   "pygments_lexer": "ipython3",
   "version": "3.10.12"
  },
  "orig_nbformat": 4
 },
 "nbformat": 4,
 "nbformat_minor": 2
}
